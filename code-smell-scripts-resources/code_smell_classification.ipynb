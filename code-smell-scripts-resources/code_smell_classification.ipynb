{
 "cells": [
  {
   "cell_type": "code",
   "execution_count": 1,
   "id": "d6dc241c",
   "metadata": {},
   "outputs": [
    {
     "name": "stdout",
     "output_type": "stream",
     "text": [
      "Requirement already satisfied: python-Levenshtein in c:\\users\\utente\\anaconda3\\lib\\site-packages (0.20.9)\n",
      "Requirement already satisfied: Levenshtein==0.20.9 in c:\\users\\utente\\anaconda3\\lib\\site-packages (from python-Levenshtein) (0.20.9)\n",
      "Requirement already satisfied: rapidfuzz<3.0.0,>=2.3.0 in c:\\users\\utente\\anaconda3\\lib\\site-packages (from Levenshtein==0.20.9->python-Levenshtein) (2.13.7)\n"
     ]
    }
   ],
   "source": [
    "#import Levenshtein module to calculate the similiraty between code smells\n",
    "import sys\n",
    "!{sys.executable} -m pip install python-Levenshtein\n",
    "import Levenshtein"
   ]
  },
  {
   "cell_type": "code",
   "execution_count": 5,
   "id": "14ebacf4",
   "metadata": {},
   "outputs": [
    {
     "name": "stdout",
     "output_type": "stream",
     "text": [
      "blocker: 59\n",
      "critical: 205\n",
      "major: 366\n",
      "minor: 123\n",
      "info: 1535\n",
      "total: 2288\n"
     ]
    }
   ],
   "source": [
    "#import regular expression\n",
    "import re\n",
    "\n",
    "#list of files containing the code smells for each category\n",
    "file_names = [\"blocker\", \"critical\", \"major\", \"minor\", \"info\"]\n",
    "\n",
    "#amout of all code smells detected\n",
    "sum_cs = 0\n",
    "\n",
    "#array containing dictionaries for each category of code smells\n",
    "smells_dicts = []\n",
    "\n",
    "\n",
    "for file in file_names:\n",
    "    #insert the file path\n",
    "    path = \"<path/to/txt/file>\"+ file + \"_smells.txt\"\n",
    "\n",
    "    f1 = open(path, 'r')\n",
    "    text_file = f1.read()\n",
    "    f1.close()\n",
    "\n",
    "    #regex to find only the class containing the code-smell description\n",
    "    regex = r'<a\\b[^>]*>(.*?)</a>'\n",
    "\n",
    "    #find all the code smells in the html text\n",
    "    code_smells = re.findall(regex, text_file)\n",
    "\n",
    "    #creation of the dictionary\n",
    "    dict_cs = {}\n",
    "    \n",
    "    #number of code smells detected\n",
    "    num_cs=0\n",
    "    \n",
    "    for cs in code_smells:\n",
    "        num_cs+=1\n",
    "        #verify if cs is already in the dictionary\n",
    "        if cs not in dict_cs.keys():\n",
    "            #set the min distance value\n",
    "            min_key_val=15\n",
    "            #set the min default value\n",
    "            min_key=\"\"\n",
    "            for key in dict_cs.keys():\n",
    "                #calcuate the similarity between the code smell and the key in the dict\n",
    "                dist=Levenshtein.distance(cs, key)\n",
    "                \n",
    "                if(dist<min_key_val):\n",
    "                    min_key_val=dist\n",
    "                    min_key=key\n",
    "            if(min_key_val==15):\n",
    "                dict_cs[cs]=1\n",
    "            else:\n",
    "                #if the distance is low, the code smell is assigned to a previous key - existing code smell\n",
    "                dict_cs[min_key]+=1\n",
    "        else:\n",
    "            dict_cs[cs]+=1\n",
    "    sum_cs+=num_cs\n",
    "    smells_dicts.append(dict_cs)\n",
    "    print(file + \": {}\".format(num_cs))\n",
    "print(\"total: {}\".format(sum_cs))"
   ]
  },
  {
   "cell_type": "code",
   "execution_count": 3,
   "id": "7b5e2cb3",
   "metadata": {
    "scrolled": true
   },
   "outputs": [
    {
     "name": "stdout",
     "output_type": "stream",
     "text": [
      "DICTIONARY --  blocker\n",
      "CS: \"keySet\" is the name of a field in \"AbstractMap\".--occurr:4\n",
      "CS: Remove this \"clone\" implementation; use a copy constructor or copy factory instead.--occurr:8\n",
      "CS: Rename method \"next\" to prevent any misunderstanding/clash with field \"next\" defined in superclass \"org.apache.commons.collections4.map.AbstractHashedMap$HashEntry\".--occurr:1\n",
      "CS: End this switch case with an unconditional break, return or throw statement.--occurr:26\n",
      "CS: Add at least one assertion to this test case.--occurr:18\n",
      "CS: Add some tests to this class.--occurr:2\n",
      "DICTIONARY --  critical\n",
      "CS: Define a constant instead of duplicating this literal \"coll1\" 3 times.--occurr:19\n",
      "CS: Define a constant instead of duplicating this literal \"Unsupported object type: \" 3 times.--occurr:1\n",
      "CS: Remove usage of generic wildcard type.--occurr:57\n",
      "CS: Refactor this method to reduce its Cognitive Complexity from 16 to the 15 allowed.--occurr:27\n",
      "CS: Null is returned but a \"Boolean\" is expected.--occurr:1\n",
      "CS: Make \"parent\" transient or serializable.--occurr:71\n",
      "CS: Define a constant instead of duplicating this literal \"Iterator remove() can only be called once after next()\" 4 times.--occurr:1\n",
      "CS: Add a nested comment explaining why this method is empty, throw an UnsupportedOperationException or complete the implementation.--occurr:2\n",
      "CS: Make this class \"private\" or elevate the visibility of \"readResolve\".--occurr:2\n",
      "CS: Define a constant instead of duplicating this literal \"InvokerTransformer: The method '\" 3 times.--occurr:1\n",
      "CS: Define a constant instead of duplicating this literal \"Iterator contains no elements\" 4 times.--occurr:2\n",
      "CS: Define a constant instead of duplicating this literal \"There are no elements for this iterator to loop on\" 4 times.--occurr:1\n",
      "CS: Define a constant instead of duplicating this literal \"Couldn't get the node: \" 3 times.--occurr:1\n",
      "CS: Add a default case to this switch.--occurr:15\n",
      "CS: Move this default to the end of the switch.--occurr:1\n",
      "CS: Define a constant instead of duplicating this literal \"Invalid map index: \" 9 times.--occurr:2\n",
      "CS: Define a constant instead of duplicating this literal \" This should not occur if your keys are immutable, and you have used synchronization properly.\" 4 times.--occurr:1\n",
      "DICTIONARY --  major\n",
      "CS: This block of commented-out lines of code should be removed.--occurr:8\n",
      "CS: Add a private constructor to hide the implicit public one.--occurr:1\n",
      "CS: Return an empty map instead of null.--occurr:15\n",
      "CS: Refactor the code in order to not assign to this loop counter from within the loop body.--occurr:3\n",
      "CS: Parameters to difference have the same names but not the same order as the method arguments.--occurr:2\n",
      "CS: Rename \"size\" which hides the field declared at line 51.--occurr:9\n",
      "CS: Prefix this call to \"remove\" with \"super.\".--occurr:11\n",
      "CS: Change the visibility of this constructor to \"protected\".--occurr:6\n",
      "CS: This class has 6 parents which is greater than 5 authorized.--occurr:1\n",
      "CS: Format specifiers should be used instead of string concatenation.--occurr:1\n",
      "CS: Extract this nested ternary operation into an independent statement.--occurr:3\n",
      "CS: Rename field \"comparatorChain\"--occurr:2\n",
      "CS: Define and throw a dedicated exception instead of using a generic one.--occurr:4\n",
      "CS: Implement Iterator rather than Enumeration.--occurr:1\n",
      "CS: Merge this if statement with the enclosing one.--occurr:1\n",
      "CS: Extract the assignment out of this expression.--occurr:4\n",
      "CS: Remove this deprecated \"cellspacing\" attribute.--occurr:10\n",
      "CS: Update this method so that its implementation is not identical to \"compute\" on line 56.--occurr:4\n",
      "CS: Refactor the code of the lambda to have only one invocation possibly throwing a runtime exception.--occurr:187\n",
      "CS: Use assertNotEquals instead.--occurr:45\n",
      "CS: Refactor this method to reduce the number of assertions from 27 to less than 25.--occurr:28\n",
      "CS: Swap these 2 arguments so they are in the correct order: expected value, actual value.--occurr:13\n",
      "CS: Remove this use of \"Thread.sleep()\".--occurr:5\n",
      "CS: Replace these 3 tests with a single Parameterized one.--occurr:2\n",
      "DICTIONARY --  minor\n",
      "CS: Remove this array creation and simply pass the elements.--occurr:5\n",
      "CS: Override the \"equals\" method in this class.--occurr:52\n",
      "CS: The return type of this method should be an interface such as \"Set\" rather than the implementation \"HashSet\".--occurr:1\n",
      "CS: Remove the \"transient\" modifier from this field.--occurr:43\n",
      "CS: Reduce the total number of break and continue statements in this loop to use at most one.--occurr:2\n",
      "CS: Replace this if-then-else statement by a single return statement.--occurr:2\n",
      "CS: Rename this method name to match the regular expression '^[a-z][a-zA-Z0-9]*$'.--occurr:3\n",
      "CS: Declare \"nextKey\" on a separate line.--occurr:3\n",
      "CS: Remove this method to simply inherit it.--occurr:5\n",
      "CS: Make size a static final constant or non-public and provide accessors if needed.--occurr:1\n",
      "CS: Remove the declaration of thrown exception 'java.io.FileNotFoundException' which is a subclass of 'java.io.IOException'.--occurr:1\n",
      "CS: Remove the declaration of thrown exception 'java.util.InvalidPropertiesFormatException' which is a subclass of 'java.io.IOException'.--occurr:1\n",
      "CS: Make this member \"protected\".--occurr:1\n",
      "CS: Extract this nested code block into a method.--occurr:2\n",
      "CS: Replace this type parametrization by the 'final' type `String`.--occurr:1\n",
      "DICTIONARY --  info\n",
      "CS: Do not forget to remove this deprecated code someday.--occurr:21\n",
      "CS: Complete the task associated to this TODO comment.--occurr:6\n",
      "CS: Remove this 'public' modifier.--occurr:1508\n"
     ]
    }
   ],
   "source": [
    "i=0\n",
    "#print code smells and their occurences for each category\n",
    "for cs_dic in smells_dicts:\n",
    "    print(\"DICTIONARY -- \", file_names[i])\n",
    "    for key,value in cs_dic.items():\n",
    "        print(\"CS: \"+ key + \"--occurr:{}\".format(value))\n",
    "    i+=1"
   ]
  },
  {
   "cell_type": "code",
   "execution_count": null,
   "id": "254a9747",
   "metadata": {},
   "outputs": [],
   "source": []
  }
 ],
 "metadata": {
  "kernelspec": {
   "display_name": "Python 3 (ipykernel)",
   "language": "python",
   "name": "python3"
  },
  "language_info": {
   "codemirror_mode": {
    "name": "ipython",
    "version": 3
   },
   "file_extension": ".py",
   "mimetype": "text/x-python",
   "name": "python",
   "nbconvert_exporter": "python",
   "pygments_lexer": "ipython3",
   "version": "3.9.12"
  }
 },
 "nbformat": 4,
 "nbformat_minor": 5
}
