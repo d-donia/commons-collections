{
 "cells": [
  {
   "cell_type": "code",
   "execution_count": 1,
   "id": "cf39049b",
   "metadata": {},
   "outputs": [
    {
     "name": "stdout",
     "output_type": "stream",
     "text": [
      "Requirement already satisfied: python-Levenshtein in c:\\users\\utente\\anaconda3\\lib\\site-packages (0.20.9)\n",
      "Requirement already satisfied: Levenshtein==0.20.9 in c:\\users\\utente\\anaconda3\\lib\\site-packages (from python-Levenshtein) (0.20.9)\n",
      "Requirement already satisfied: rapidfuzz<3.0.0,>=2.3.0 in c:\\users\\utente\\anaconda3\\lib\\site-packages (from Levenshtein==0.20.9->python-Levenshtein) (2.13.7)\n"
     ]
    }
   ],
   "source": [
    "#import Levenshtein module to calculate the similiraty between code smells\n",
    "import sys\n",
    "!{sys.executable} -m pip install python-Levenshtein\n",
    "import Levenshtein"
   ]
  },
  {
   "cell_type": "code",
   "execution_count": 2,
   "id": "e4e93691",
   "metadata": {},
   "outputs": [
    {
     "name": "stdout",
     "output_type": "stream",
     "text": [
      "1191\n",
      "{'Avoid using global variables': 254, 'Use ++i instead of i++': 158, 'Using a switch statement instead of multiple if-else if possible': 636, 'Avoid usage of static collections.': 7, 'The variable is declared but not really used': 55, 'Avoid the use of Foreach with Arrays': 34, 'Do not call a function when declaring a for-type loop': 22, 'Avoid getting the size of the collection in the loop': 4, 'Initialize StringBuilder or StringBuffer with appropriate size': 8, \"Don't concatenate Strings in loop, use StringBuilder instead.\": 8, 'Use System.arraycopy to copy arrays': 4, 'try-with-resources Statement needs to be implemented for any object that implements the AutoClosable interface.': 1}\n"
     ]
    }
   ],
   "source": [
    "#import regular expression\n",
    "import re\n",
    "\n",
    "#amout of all code smells detected\n",
    "sum_cs = 0\n",
    "\n",
    "#array containing dictionaries for each category of code smells\n",
    "smells_dicts = []\n",
    "\n",
    "#insert the file path\n",
    "path = \"<path/to/txt/file>/eco_smells.txt\"\n",
    "\n",
    "f1 = open(path, 'r')\n",
    "text_file = f1.read()\n",
    "f1.close()\n",
    "\n",
    "button_regex = r'<button\\s+class=\"button-plain spacer-right\"\\s+type=\"button\">(.*?)</button>'\n",
    "\n",
    "matches = re.findall(button_regex, text_file)\n",
    "i=0\n",
    "\n",
    "#creation of the dictionary\n",
    "dict_cs = {}\n",
    "    \n",
    "#number of code smells detected\n",
    "num_cs=0\n",
    "    \n",
    "for cs in matches:\n",
    "    num_cs+=1\n",
    "    #verify if cs is already in the dictionary\n",
    "    if cs not in dict_cs.keys():\n",
    "        #set the min distance value\n",
    "        min_key_val=15\n",
    "        #set the min default value\n",
    "        min_key=\"\"\n",
    "        for key in dict_cs.keys():\n",
    "            #calcuate the similarity between the code smell and the key in the dict\n",
    "            dist=Levenshtein.distance(cs, key)\n",
    "                \n",
    "            if(dist<min_key_val):\n",
    "                min_key_val=dist\n",
    "                min_key=key\n",
    "        if(min_key_val==15):\n",
    "            dict_cs[cs]=1\n",
    "        else:\n",
    "            #if the distance is low, the code smell is assigned to a previous key - existing code smell\n",
    "            dict_cs[min_key]+=1\n",
    "    else:\n",
    "        dict_cs[cs]+=1\n",
    "        \n",
    "print(num_cs)\n",
    "print(dict_cs)"
   ]
  },
  {
   "cell_type": "code",
   "execution_count": 5,
   "id": "4097fa84",
   "metadata": {},
   "outputs": [
    {
     "name": "stdout",
     "output_type": "stream",
     "text": [
      "ECO CODE SMELLS -- summary\n",
      "ECO-CS:Avoid using global variables--occurr:254\n",
      "ECO-CS:Use ++i instead of i++--occurr:158\n",
      "ECO-CS:Using a switch statement instead of multiple if-else if possible--occurr:636\n",
      "ECO-CS:Avoid usage of static collections.--occurr:7\n",
      "ECO-CS:The variable is declared but not really used--occurr:55\n",
      "ECO-CS:Avoid the use of Foreach with Arrays--occurr:34\n",
      "ECO-CS:Do not call a function when declaring a for-type loop--occurr:22\n",
      "ECO-CS:Avoid getting the size of the collection in the loop--occurr:4\n",
      "ECO-CS:Initialize StringBuilder or StringBuffer with appropriate size--occurr:8\n",
      "ECO-CS:Don't concatenate Strings in loop, use StringBuilder instead.--occurr:8\n",
      "ECO-CS:Use System.arraycopy to copy arrays--occurr:4\n",
      "ECO-CS:try-with-resources Statement needs to be implemented for any object that implements the AutoClosable interface.--occurr:1\n"
     ]
    }
   ],
   "source": [
    "#print code smells and their occurences for each category\n",
    "print(\"ECO CODE SMELLS -- summary\")\n",
    "for key,value in dict_cs.items():\n",
    "    print(\"ECO-CS:\"+ key + \"--occurr:{}\".format(value))\n",
    "i+=1"
   ]
  },
  {
   "cell_type": "code",
   "execution_count": null,
   "id": "ba275207",
   "metadata": {},
   "outputs": [],
   "source": []
  }
 ],
 "metadata": {
  "kernelspec": {
   "display_name": "Python 3 (ipykernel)",
   "language": "python",
   "name": "python3"
  },
  "language_info": {
   "codemirror_mode": {
    "name": "ipython",
    "version": 3
   },
   "file_extension": ".py",
   "mimetype": "text/x-python",
   "name": "python",
   "nbconvert_exporter": "python",
   "pygments_lexer": "ipython3",
   "version": "3.9.12"
  }
 },
 "nbformat": 4,
 "nbformat_minor": 5
}
